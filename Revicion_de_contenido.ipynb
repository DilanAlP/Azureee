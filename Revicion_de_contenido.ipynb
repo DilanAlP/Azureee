{
  "nbformat": 4,
  "nbformat_minor": 0,
  "metadata": {
    "colab": {
      "name": "Computer vision",
      "provenance": [],
      "authorship_tag": "ABX9TyO6zAY6fTDIZUm4hRCxeDcC",
      "include_colab_link": true
    },
    "kernelspec": {
      "name": "python3",
      "display_name": "Python 3"
    }
  },
  "cells": [
    {
      "cell_type": "markdown",
      "metadata": {
        "id": "view-in-github",
        "colab_type": "text"
      },
      "source": [
        "<a href=\"https://colab.research.google.com/github/DilanAlP/Azureee/blob/main/Revicion_de_contenido.ipynb\" target=\"_parent\"><img src=\"https://colab.research.google.com/assets/colab-badge.svg\" alt=\"Open In Colab\"/></a>"
      ]
    },
    {
      "cell_type": "markdown",
      "metadata": {
        "id": "lluhTwddbPNd"
      },
      "source": [
        "*Instalacion del paquete Azure para los servicios cognitivos de vision*"
      ]
    },
    {
      "cell_type": "code",
      "metadata": {
        "colab": {
          "base_uri": "https://localhost:8080/"
        },
        "id": "wnfIC7-AaVVW",
        "outputId": "501d5c2b-014e-4762-ba14-4269def941c1"
      },
      "source": [
        "!pip install --upgrade azure-cognitiveservices-vision-computervision"
      ],
      "execution_count": 5,
      "outputs": [
        {
          "output_type": "stream",
          "text": [
            "Collecting azure-cognitiveservices-vision-computervision\n",
            "  Downloading https://files.pythonhosted.org/packages/f2/de/03ddaffabd541829394fb6ee4615f642ed1a14438b4543a01ad58f7d222e/azure_cognitiveservices_vision_computervision-0.7.0-py2.py3-none-any.whl\n",
            "Collecting azure-common~=1.1\n",
            "  Downloading https://files.pythonhosted.org/packages/19/2b/46ada1753c4a640bc3ad04a1e20b1a5ea52a8f18079e1b8238e536aa0c98/azure_common-1.1.26-py2.py3-none-any.whl\n",
            "Collecting msrest>=0.5.0\n",
            "\u001b[?25l  Downloading https://files.pythonhosted.org/packages/e8/cc/6c96bfb3d3cf4c3bdedfa6b46503223f4c2a4fa388377697e0f8082a4fed/msrest-0.6.21-py2.py3-none-any.whl (85kB)\n",
            "\u001b[K     |████████████████████████████████| 92kB 5.2MB/s \n",
            "\u001b[?25hRequirement already satisfied, skipping upgrade: requests-oauthlib>=0.5.0 in /usr/local/lib/python3.7/dist-packages (from msrest>=0.5.0->azure-cognitiveservices-vision-computervision) (1.3.0)\n",
            "Requirement already satisfied, skipping upgrade: requests~=2.16 in /usr/local/lib/python3.7/dist-packages (from msrest>=0.5.0->azure-cognitiveservices-vision-computervision) (2.23.0)\n",
            "Collecting isodate>=0.6.0\n",
            "\u001b[?25l  Downloading https://files.pythonhosted.org/packages/9b/9f/b36f7774ff5ea8e428fdcfc4bb332c39ee5b9362ddd3d40d9516a55221b2/isodate-0.6.0-py2.py3-none-any.whl (45kB)\n",
            "\u001b[K     |████████████████████████████████| 51kB 5.1MB/s \n",
            "\u001b[?25hRequirement already satisfied, skipping upgrade: certifi>=2017.4.17 in /usr/local/lib/python3.7/dist-packages (from msrest>=0.5.0->azure-cognitiveservices-vision-computervision) (2020.12.5)\n",
            "Requirement already satisfied, skipping upgrade: oauthlib>=3.0.0 in /usr/local/lib/python3.7/dist-packages (from requests-oauthlib>=0.5.0->msrest>=0.5.0->azure-cognitiveservices-vision-computervision) (3.1.0)\n",
            "Requirement already satisfied, skipping upgrade: chardet<4,>=3.0.2 in /usr/local/lib/python3.7/dist-packages (from requests~=2.16->msrest>=0.5.0->azure-cognitiveservices-vision-computervision) (3.0.4)\n",
            "Requirement already satisfied, skipping upgrade: idna<3,>=2.5 in /usr/local/lib/python3.7/dist-packages (from requests~=2.16->msrest>=0.5.0->azure-cognitiveservices-vision-computervision) (2.10)\n",
            "Requirement already satisfied, skipping upgrade: urllib3!=1.25.0,!=1.25.1,<1.26,>=1.21.1 in /usr/local/lib/python3.7/dist-packages (from requests~=2.16->msrest>=0.5.0->azure-cognitiveservices-vision-computervision) (1.24.3)\n",
            "Requirement already satisfied, skipping upgrade: six in /usr/local/lib/python3.7/dist-packages (from isodate>=0.6.0->msrest>=0.5.0->azure-cognitiveservices-vision-computervision) (1.15.0)\n",
            "Installing collected packages: azure-common, isodate, msrest, azure-cognitiveservices-vision-computervision\n",
            "Successfully installed azure-cognitiveservices-vision-computervision-0.7.0 azure-common-1.1.26 isodate-0.6.0 msrest-0.6.21\n"
          ],
          "name": "stdout"
        }
      ]
    },
    {
      "cell_type": "code",
      "metadata": {
        "id": "TzSJe_bibZ6z"
      },
      "source": [
        "#funcionalidades para conectarnos con  nuestro recurso de Cognitive services y validar nuestro acceso\r\n",
        "from azure.cognitiveservices.vision.computervision import ComputerVisionClient\r\n",
        "from azure.cognitiveservices.vision.computervision.models import OperationStatusCodes\r\n",
        "from azure.cognitiveservices.vision.computervision.models import VisualFeatureTypes\r\n",
        "from msrest.authentication import CognitiveServicesCredentials\r\n",
        "#paqueteria python para acceder a recursos de la maquina\r\n",
        "from array import array\r\n",
        "import os\r\n",
        "from PIL import Image #trabaja con imagenes\r\n",
        "import sys\r\n",
        "import time\r\n"
      ],
      "execution_count": 6,
      "outputs": []
    },
    {
      "cell_type": "markdown",
      "metadata": {
        "id": "6acog7iGdSW-"
      },
      "source": [
        "Lo primero que se necesita hacer es autenticar nuestro acceso para consumir nuestro recurso"
      ]
    },
    {
      "cell_type": "code",
      "metadata": {
        "id": "OonpMmf-cvOG"
      },
      "source": [
        "subscription_key = \"\"\r\n",
        "endpoint = \"\"\r\n",
        "computervision_client = ComputerVisionClient(endpoint, CognitiveServicesCredentials(subscription_key))"
      ],
      "execution_count": 7,
      "outputs": []
    },
    {
      "cell_type": "markdown",
      "metadata": {
        "id": "KzTFFC2veSMC"
      },
      "source": [
        "Procedemos a consumir el servicio para analizar una imagen"
      ]
    },
    {
      "cell_type": "code",
      "metadata": {
        "id": "hy-Os6B8eImt"
      },
      "source": [
        "#url de la imagen que vamos a analizar\r\n",
        "remote_image_url = \"https://m.media-amazon.com/images/I/91rxuw9d3TL._SS500_.jpg\""
      ],
      "execution_count": 52,
      "outputs": []
    },
    {
      "cell_type": "code",
      "metadata": {
        "colab": {
          "base_uri": "https://localhost:8080/"
        },
        "id": "IFe8jO_7fW5S",
        "outputId": "d18f38f0-415c-49f5-cc00-647f0abda982"
      },
      "source": [
        "\r\n",
        "print(\"===== DETECCION  DE CONTENIDO =====\")\r\n",
        "#Seleciona el efecto visual que deseas usar\r\n",
        "remote_image_features = [\"adult\"]\r\n",
        "# Llama a la API con el url y las caristicas\r\n",
        "detect_adult_results_remote = computervision_client.analyze_image(remote_image_url, remote_image_features)\r\n",
        "#se imprimen los resultados\r\n",
        "if ((detect_adult_results_remote.adult.is_adult_content or detect_adult_results_remote.adult.is_racy_content or detect_adult_results_remote.adult.is_gory_content) == False):\r\n",
        "  print(\"Esta imagen es apta para todo publico\")\r\n",
        "else:\r\n",
        "  print(\"Esta imagen contiene contenido NO apto para todo publico\")"
      ],
      "execution_count": 55,
      "outputs": [
        {
          "output_type": "stream",
          "text": [
            "===== DETECCION  DE CONTENIDO =====\n",
            "Esta imagen contiene contenido NO apto para todo publico\n"
          ],
          "name": "stdout"
        }
      ]
    }
  ]
}